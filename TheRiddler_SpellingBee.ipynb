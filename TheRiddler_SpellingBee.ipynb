{
 "cells": [
  {
   "cell_type": "markdown",
   "metadata": {},
   "source": [
    "# Simulation: FiveThirtyEight Riddler Classic - Can you win a spelling bee if you know 99% of the words?\n",
    "\n",
    "This is my python code for simulating the outcome of the spelling bee riddle and results of 500,000 trials. The riddle can be found at [FiveThirtyEight.com](https://fivethirtyeight.com/features/can-you-win-a-spelling-bee-if-you-know-99-percent-of-the-words/).\n",
    "\n",
    "#### Original Riddle from FiveThirtyEight:\n",
    "Riddler Classic\n",
    "From Steven Pratt, ordinal bee probability:\n",
    "\n",
    "You are competing in a spelling bee alongside nine other contestants. You can each spell words perfectly from a certain portion of the dictionary but will misspell any word not in that portion of the book. Specifically, you have 99 percent of the dictionary down cold, and your opponents have 98 percent, 97 percent, 96 percent, and so on down to 90 percent memorized. The bee’s rules are simple: The contestants take turns spelling in some fixed order, which then restarts with the first surviving speller at the end of a round. Miss a word and you’re out, and the last speller standing wins. The bee words are chosen randomly from the dictionary.\n",
    "\n",
    "First, say the contestants go in decreasing order of their knowledge, so that you go first. What are your chances of winning the spelling bee? Second, say the contestants go in increasing order of knowledge, so that you go last. What are your chances of winning now?\n",
    "\n",
    "#### Methodology:\n",
    "To simulate the spelling bee, I first made a list of the ten players, known simply by their % points of orthographic excellence, arranged in descending order. Then, I added an ascending version of the same list for game play in the reverse order. The game itself proceeds by looping through a copy of one of the lists and having each player roll a psuedo-random number 1-100. If their rolled number happens to be higher than their their player number, which is also the % of the dictionary they know, then the player misspells the word. This works so that the player with 99% of the dictionary memorized can only lose if they roll a 100, the player with 98% memorized can lose by rolling 100 or 99, and so on. Once a player misspells a word, they are removed from the remaining players list and the game proceeds until the length of that list is 1. The remaining item in the list is the winning player.\n",
    "\n",
    "Once a winner is declared for a game, their score is incremented in a score_keeper dictionary which counts their total number of wins in the series of n_games. At the end of a series, the % of wins for each player is calculated and printed.\n",
    "\n",
    "#### Results of simulation:\n",
    "The player that has memorized 99% of the dictionary will win 51.4% of games when rounds are played in order of decending skill level. When the player order is reversed to ascending order of skill, the 99% player will have a slightly higher win rate of 52.0% This is due to the 'last player standing' rule. The winning player does not actually have to spell a word in the final round because the game ends when their last competitor misspells a word."
   ]
  },
  {
   "cell_type": "code",
   "execution_count": 1,
   "metadata": {},
   "outputs": [],
   "source": [
    "import random"
   ]
  },
  {
   "cell_type": "code",
   "execution_count": 2,
   "metadata": {},
   "outputs": [],
   "source": [
    "#list of players - identified by their probability of winning in % points.\n",
    "players_desc = [99, 98, 97, 96, 95, 94, 93, 92, 91, 90]\n",
    "players_asc = players_desc[::-1]"
   ]
  },
  {
   "cell_type": "code",
   "execution_count": 3,
   "metadata": {},
   "outputs": [],
   "source": [
    "def play_series(n_games, players):\n",
    "    \n",
    "    #reset scoreboard\n",
    "    score_keeper = {90: 0, 91: 0, 92: 0, 93: 0, 94: 0, 95: 0, 96: 0, 97: 0, 98: 0, 99: 0}\n",
    "    \n",
    "    #play n_total games\n",
    "    for i in range(n_games):\n",
    "        #reset players remaining at beginning of game.\n",
    "        players_remaining = players.copy()\n",
    "\n",
    "        #take turns playing in order until one player remains. \n",
    "        while len(players_remaining) > 1:\n",
    "            for player in players_remaining:\n",
    "                roll = random.randint(1, 100)\n",
    "                \n",
    "                #If roll is greater than player #, remove player from game.\n",
    "                if roll > player:\n",
    "                    players_remaining.remove(player)\n",
    "\n",
    "        #tally winner's score in score_keeper dict\n",
    "        score_keeper[players_remaining[0]] += 1\n",
    "    \n",
    "    #print score stats\n",
    "    for key, value in score_keeper.items():\n",
    "        print(\"{}: {}\".format(key, round(value/n_games, 3)))\n",
    "    \n",
    "    "
   ]
  },
  {
   "cell_type": "code",
   "execution_count": 4,
   "metadata": {},
   "outputs": [
    {
     "name": "stdout",
     "output_type": "stream",
     "text": [
      "90: 0.005\n",
      "91: 0.007\n",
      "92: 0.01\n",
      "93: 0.015\n",
      "94: 0.024\n",
      "95: 0.038\n",
      "96: 0.062\n",
      "97: 0.11\n",
      "98: 0.215\n",
      "99: 0.514\n"
     ]
    }
   ],
   "source": [
    "#Play 500,000 games in descending order of skill.\n",
    "play_series(500000, players_desc)"
   ]
  },
  {
   "cell_type": "code",
   "execution_count": 5,
   "metadata": {},
   "outputs": [
    {
     "name": "stdout",
     "output_type": "stream",
     "text": [
      "90: 0.003\n",
      "91: 0.006\n",
      "92: 0.009\n",
      "93: 0.014\n",
      "94: 0.022\n",
      "95: 0.036\n",
      "96: 0.061\n",
      "97: 0.11\n",
      "98: 0.218\n",
      "99: 0.52\n"
     ]
    }
   ],
   "source": [
    "#Play 500,000 games in ascending order of skill.\n",
    "play_series(500000, players_asc)"
   ]
  }
 ],
 "metadata": {
  "kernelspec": {
   "display_name": "Python 3",
   "language": "python",
   "name": "python3"
  },
  "language_info": {
   "codemirror_mode": {
    "name": "ipython",
    "version": 3
   },
   "file_extension": ".py",
   "mimetype": "text/x-python",
   "name": "python",
   "nbconvert_exporter": "python",
   "pygments_lexer": "ipython3",
   "version": "3.7.1"
  }
 },
 "nbformat": 4,
 "nbformat_minor": 2
}
